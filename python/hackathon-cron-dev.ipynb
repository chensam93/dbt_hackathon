{
  "cells": [
    {
      "cell_type": "code",
      "execution_count": 1,
      "metadata": {},
      "outputs": [],
      "source": [
        "import json\n",
        "import requests\n",
        "from requests.adapters import HTTPAdapter, Retry\n",
        "import time\n",
        "from time import sleep\n",
        "import pandas as pd\n",
        "from loguru import logger\n",
        "\n",
        "API_VERSION = '4.0'\n",
        "API_PORT = '19999'\n",
        "\n",
        "# Looker PDT - Set LOOKER_MODEL_NAME and LOOKER_VIEW_NAME\n",
        "LOOKER_MODEL_NAME = 'windriversystems_v2'\n",
        "LOOKER_VIEW_NAME = 'all_plan_categories'\n",
        "\n",
        "def model(dbt, session):\n",
        "    # Get environment variable: looker_credentials (json)\n",
        "    looker_credentials_str = dbt.get('config', {}).get(\"looker_credentials\")\n",
        "    looker_credentials = json.loads(looker_credentials_str)\n",
        "    api_url = looker_credentials.get(\"api_url\")\n",
        "    client_id = looker_credentials.get(\"client_id\")\n",
        "    client_secret = looker_credentials.get(\"client_secret\")\n",
        "\n",
        "    base_url = '{}:{}/api/{}'.format(api_url, API_PORT, API_VERSION)\n",
        "\n",
        "    # Create looker_session with retries for error codes: 409, 429, 500\n",
        "    looker_session = requests.Session()\n",
        "    retries = Retry(total=5, backoff_factor=1, status_forcelist=[ 409, 429, 500 ])\n",
        "    looker_session.mount('https://looker.com', HTTPAdapter(max_retries=retries))\n",
        "\n",
        "    # Login to Looker API and get access_token\n",
        "    login_url = '{}/login'.format(base_url)\n",
        "\n",
        "    login_headers = {\n",
        "        'Accept': 'application/json'\n",
        "    }\n",
        "\n",
        "    login_payload = {\n",
        "        'client_id': '{}'.format(client_id),\n",
        "        'client_secret': '{}'.format(client_secret)\n",
        "    }\n",
        "\n",
        "    login_response = looker_session.post(\n",
        "        login_url,\n",
        "        data=login_payload,\n",
        "        headers=login_headers\n",
        "    )\n",
        "\n",
        "    login_response_json = login_response.json()\n",
        "    access_token = login_response_json.get('access_token')\n",
        "\n",
        "    # Start a Looker PDT and get materialization_id\n",
        "    start_pdt_url = '{}/derived_table/{}/{}/start'.format(\n",
        "        base_url,\n",
        "        LOOKER_MODEL_NAME,\n",
        "        LOOKER_VIEW_NAME\n",
        "    )\n",
        "\n",
        "    auth_headers = {\n",
        "        'Authorization': 'Bearer {}'.format(access_token)\n",
        "    }\n",
        "\n",
        "    start_pdt_response = looker_session.get(\n",
        "        start_pdt_url,\n",
        "        headers=auth_headers\n",
        "    )\n",
        "\n",
        "    start_pdt_response_json = start_pdt_response.json()\n",
        "    materialization_id = start_pdt_response_json.get('materialization_id')\n",
        "\n",
        "    # Check PDT Status and loop until complete\n",
        "    check_pdt_url = '{}/derived_table/{}/status'.format(\n",
        "        base_url,\n",
        "        materialization_id\n",
        "    )\n",
        "\n",
        "    pdt_status = 'started'\n",
        "    keep_looping = True\n",
        "    counter = 1\n",
        "    while keep_looping:\n",
        "        logger.info('Check {}: {}'.format(counter, pdt_status))\n",
        "        \n",
        "        check_pdt_response = looker_session.get(\n",
        "            check_pdt_url,\n",
        "            headers=auth_headers\n",
        "        )\n",
        "        \n",
        "        check_pdt_response_json = json.loads(check_pdt_response.json().get('resp_text'))\n",
        "\n",
        "        pdt_status = check_pdt_response_json.get('status')\n",
        "\n",
        "        if pdt_status in ('complete', 'error') or counter > 5:\n",
        "            keep_looping = False\n",
        "        else:\n",
        "            sleep(5)\n",
        "        counter = counter + 1\n",
        "\n",
        "    logger.info('Check {}: {}'.format(counter, pdt_status))\n",
        "    logger.info('PDT Response JSON: {}'.format(check_pdt_response_json))\n",
        "\n",
        "    # Convert response json to dataframe and return\n",
        "    response_df = pd.DataFrame([check_pdt_response_json])\n",
        "\n",
        "    return response_df\n",
        "\n"
      ]
    },
    {
      "cell_type": "code",
      "execution_count": 10,
      "metadata": {},
      "outputs": [],
      "source": [
        "from snowflake.snowpark import Session\n",
        "\n",
        "# Get secrets from file\n",
        "secrets_file = open('snowflake_secrets.json',)\n",
        "secrets = json.load(secrets_file)\n",
        "\n",
        "snowflake_account = secrets.get('snowflake_account')\n",
        "snowflake_user = secrets.get('snowflake_user')\n",
        "snowflake_password = secrets.get('snowflake_password')\n",
        "snowflake_role = secrets.get('snowflake_role')\n",
        "snowflake_database = secrets.get('snowflake_database')\n",
        "snowflake_warehouse = secrets.get('snowflake_warehouse')"
      ]
    },
    {
      "cell_type": "code",
      "execution_count": 11,
      "metadata": {},
      "outputs": [
        {
          "name": "stdout",
          "output_type": "stream",
          "text": [
            "snowflake_user = JHUTH\n",
            "snowflake_warehouse = COMPUTE_WH\n",
            "snowflake_database = HACKATHON\n"
          ]
        }
      ],
      "source": [
        "print('snowflake_user = {}'.format(snowflake_user))\n",
        "print('snowflake_warehouse = {}'.format(snowflake_warehouse))\n",
        "print('snowflake_database = {}'.format(snowflake_database))"
      ]
    },
    {
      "cell_type": "code",
      "execution_count": 12,
      "metadata": {},
      "outputs": [],
      "source": [
        "# Connect to Snowflake\n",
        "connection_parameters = {\n",
        "    'account': snowflake_account,\n",
        "    'user': snowflake_user,\n",
        "    'password': snowflake_password,\n",
        "    'role': snowflake_role,\n",
        "    'warehouse': snowflake_warehouse,\n",
        "    'database': snowflake_database,\n",
        "    'schema': 'DBT_JHUTH'\n",
        "}\n",
        "\n",
        "new_session = Session.builder.configs(connection_parameters).create()"
      ]
    },
    {
      "cell_type": "code",
      "execution_count": 13,
      "metadata": {},
      "outputs": [],
      "source": [
        "new_session.close()"
      ]
    },
    {
      "cell_type": "code",
      "execution_count": 6,
      "metadata": {},
      "outputs": [],
      "source": [
        "class dbtObj:\n",
        "    def __init__(self, config) -> None:\n",
        "        self.config = config"
      ]
    },
    {
      "cell_type": "code",
      "execution_count": 7,
      "metadata": {},
      "outputs": [],
      "source": [
        "session = requests.Session()\n",
        "dbt = dbtObj(\n",
        "    config={\n",
        "        'looker_credentials': '{ \"api_url\": \"https://windriversystemsdev.looker.com\", \"client_id\": \"3JGNkD3ntJ5vfGJxPzhb\", \"client_secret\": \"p3qnKMqt9PmdyZCb79SdZS8f\" }'\n",
        "    }\n",
        ")\n"
      ]
    },
    {
      "cell_type": "code",
      "execution_count": 9,
      "metadata": {},
      "outputs": [
        {
          "name": "stderr",
          "output_type": "stream",
          "text": [
            "2022-09-21 11:19:18.143 | INFO     | __main__:model:81 - Check 1: started\n",
            "2022-09-21 11:19:23.493 | INFO     | __main__:model:81 - Check 2: running\n",
            "2022-09-21 11:19:28.851 | INFO     | __main__:model:81 - Check 3: running\n",
            "2022-09-21 11:19:29.230 | INFO     | __main__:model:98 - Check 4: complete\n",
            "2022-09-21 11:19:29.231 | INFO     | __main__:model:99 - PDT Response JSON: {'status': 'complete', 'runtime': 4.6513450145721436, 'message': 'API materializing all_plan_categories and component(s) wc_all_acv_plan,wc_all_revenue_plan,wc_all_invoice_plan,wc_all_nb_plan,mammoth_transposed,normalized_booking_transposed', 'query_slug': 'b9283f96795e0dfb1a92e28ec78d92af'}\n"
          ]
        }
      ],
      "source": [
        "response_df = model(dbt,session)"
      ]
    }
  ],
  "metadata": {
    "colab": {
      "collapsed_sections": [],
      "name": "fivetran-elasticpath-lambda-dev.ipynb",
      "provenance": []
    },
    "kernelspec": {
      "display_name": "Python 3.8.13 64-bit ('dbt_hackathon')",
      "language": "python",
      "name": "python3"
    },
    "language_info": {
      "codemirror_mode": {
        "name": "ipython",
        "version": 3
      },
      "file_extension": ".py",
      "mimetype": "text/x-python",
      "name": "python",
      "nbconvert_exporter": "python",
      "pygments_lexer": "ipython3",
      "version": "3.8.13"
    },
    "vscode": {
      "interpreter": {
        "hash": "ef7d9ae0d61b30d10cd2515a347fa16547d28d85af65b9d10ce8ad902f8344fb"
      }
    }
  },
  "nbformat": 4,
  "nbformat_minor": 0
}
